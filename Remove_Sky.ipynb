{
  "nbformat": 4,
  "nbformat_minor": 0,
  "metadata": {
    "colab": {
      "provenance": [],
      "gpuType": "T4",
      "authorship_tag": "ABX9TyMX2pgM5evtR8g9P7XwoIoZ",
      "include_colab_link": true
    },
    "kernelspec": {
      "name": "python3",
      "display_name": "Python 3"
    },
    "language_info": {
      "name": "python"
    },
    "accelerator": "GPU"
  },
  "cells": [
    {
      "cell_type": "markdown",
      "metadata": {
        "id": "view-in-github",
        "colab_type": "text"
      },
      "source": [
        "<a href=\"https://colab.research.google.com/github/harsh1532/Remove_Sky/blob/main/Remove_Sky.ipynb\" target=\"_parent\"><img src=\"https://colab.research.google.com/assets/colab-badge.svg\" alt=\"Open In Colab\"/></a>"
      ]
    },
    {
      "cell_type": "code",
      "execution_count": 1,
      "metadata": {
        "colab": {
          "base_uri": "https://localhost:8080/",
          "height": 373
        },
        "id": "Ey5vi-xvu_K0",
        "outputId": "5cebf86b-0f10-4906-9553-0481cc99a41a"
      },
      "outputs": [
        {
          "output_type": "error",
          "ename": "ModuleNotFoundError",
          "evalue": "ignored",
          "traceback": [
            "\u001b[0;31m---------------------------------------------------------------------------\u001b[0m",
            "\u001b[0;31mModuleNotFoundError\u001b[0m                       Traceback (most recent call last)",
            "\u001b[0;32m<ipython-input-1-8aed995c5d17>\u001b[0m in \u001b[0;36m<cell line: 3>\u001b[0;34m()\u001b[0m\n\u001b[1;32m      1\u001b[0m \u001b[0;32mimport\u001b[0m \u001b[0mcv2\u001b[0m\u001b[0;34m\u001b[0m\u001b[0;34m\u001b[0m\u001b[0m\n\u001b[1;32m      2\u001b[0m \u001b[0;32mimport\u001b[0m \u001b[0mmatplotlib\u001b[0m\u001b[0;34m.\u001b[0m\u001b[0mpyplot\u001b[0m \u001b[0;32mas\u001b[0m \u001b[0mplt\u001b[0m\u001b[0;34m\u001b[0m\u001b[0;34m\u001b[0m\u001b[0m\n\u001b[0;32m----> 3\u001b[0;31m \u001b[0;32mfrom\u001b[0m \u001b[0mdetectron2\u001b[0m\u001b[0;34m.\u001b[0m\u001b[0mconfig\u001b[0m \u001b[0;32mimport\u001b[0m \u001b[0mget_cfg\u001b[0m\u001b[0;34m\u001b[0m\u001b[0;34m\u001b[0m\u001b[0m\n\u001b[0m\u001b[1;32m      4\u001b[0m \u001b[0;32mfrom\u001b[0m \u001b[0mdetectron2\u001b[0m\u001b[0;34m.\u001b[0m\u001b[0mengine\u001b[0m \u001b[0;32mimport\u001b[0m \u001b[0mDefaultPredictor\u001b[0m\u001b[0;34m\u001b[0m\u001b[0;34m\u001b[0m\u001b[0m\n\u001b[1;32m      5\u001b[0m \u001b[0;32mfrom\u001b[0m \u001b[0mdetectron2\u001b[0m\u001b[0;34m.\u001b[0m\u001b[0mdata\u001b[0m \u001b[0;32mimport\u001b[0m \u001b[0mMetadataCatalog\u001b[0m\u001b[0;34m\u001b[0m\u001b[0;34m\u001b[0m\u001b[0m\n",
            "\u001b[0;31mModuleNotFoundError\u001b[0m: No module named 'detectron2'",
            "",
            "\u001b[0;31m---------------------------------------------------------------------------\u001b[0;32m\nNOTE: If your import is failing due to a missing package, you can\nmanually install dependencies using either !pip or !apt.\n\nTo view examples of installing some common dependencies, click the\n\"Open Examples\" button below.\n\u001b[0;31m---------------------------------------------------------------------------\u001b[0m\n"
          ],
          "errorDetails": {
            "actions": [
              {
                "action": "open_url",
                "actionText": "Open Examples",
                "url": "/notebooks/snippets/importing_libraries.ipynb"
              }
            ]
          }
        }
      ],
      "source": [
        "import cv2\n",
        "import matplotlib.pyplot as plt\n",
        "from detectron2.config import get_cfg\n",
        "from detectron2.engine import DefaultPredictor\n",
        "from detectron2.data import MetadataCatalog\n",
        "from detectron2.utils.visualizer import Visualizer\n",
        "from detectron2.data.datasets import register_coco_instances\n",
        "\n",
        "def remove_sky_from_dataset(dataset_name, output_dataset_name):\n",
        "    # Load the COCO dataset\n",
        "    register_coco_instances(dataset_name, {}, \"path_to_annotation_json\", \"path_to_images_folder\")\n",
        "    dataset_metadata = MetadataCatalog.get(dataset_name)\n",
        "\n",
        "    # Create configuration for the model\n",
        "    cfg = get_cfg()\n",
        "    cfg.merge_from_file(\"COCO-InstanceSegmentation/mask_rcnn_R_50_FPN_3x.yaml\")\n",
        "    cfg.MODEL.ROI_HEADS.SCORE_THRESH_TEST = 0.5\n",
        "    cfg.MODEL.WEIGHTS = \"path_to_pretrained_model_weights\"\n",
        "\n",
        "    # Create the predictor\n",
        "    predictor = DefaultPredictor(cfg)\n",
        "\n",
        "    # Iterate over the dataset and remove sky from each image\n",
        "    dataset = MetadataCatalog.get(dataset_name)\n",
        "    for data in dataset:\n",
        "        image_path = data['file_name']\n",
        "        image = cv2.imread(image_path)\n",
        "\n",
        "        # Use the predictor to detect objects in the image\n",
        "        outputs = predictor(image)\n",
        "\n",
        "        # Remove the sky from the image by cropping to the highest non-sky object\n",
        "        instances = outputs['instances']\n",
        "        pred_classes = instances.pred_classes\n",
        "        pred_scores = instances.scores\n",
        "        pred_masks = instances.pred_masks\n",
        "\n",
        "        highest_object_index = pred_scores.argmax().item()\n",
        "        highest_object_mask = pred_masks[highest_object_index].to(\"cpu\").numpy()\n",
        "\n",
        "        image_without_sky = image.copy()\n",
        "        image_without_sky[highest_object_mask == 0] = 0\n",
        "\n",
        "        # Visualize the image without sky\n",
        "        v = Visualizer(image_without_sky[:, :, ::-1], metadata=dataset_metadata, scale=1.2)\n",
        "        out = v.draw_instance_predictions(outputs[\"instances\"].to(\"cpu\"))\n",
        "        plt.imshow(out.get_image()[:, :, ::-1])\n",
        "        plt.show()\n",
        "\n",
        "        # Save the manipulated image to the output dataset\n",
        "        output_image_path = \"path_to_save_output_images\"  # Provide the path to save the output images\n",
        "        cv2.imwrite(output_image_path, image_without_sky)\n",
        "\n",
        "        # Update the annotation file for the output dataset\n",
        "\n",
        "remove_sky_from_dataset(\"original_dataset\", \"output_dataset\")\n"
      ]
    }
  ]
}